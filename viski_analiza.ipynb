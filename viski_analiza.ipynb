{
 "cells": [
  {
   "cell_type": "markdown",
   "metadata": {},
   "source": [
    "# Analiza podatkov o viskijih\n",
    "\n",
    "V tej datoteki bom s knjižnico pandas analiziral podatke o viskijih"
   ]
  },
  {
   "cell_type": "markdown",
   "metadata": {},
   "source": [
    "### Naložimo pandas in podatke"
   ]
  },
  {
   "cell_type": "code",
   "execution_count": 31,
   "metadata": {},
   "outputs": [],
   "source": [
    "import pandas as pd\n",
    "import matplotlib.pyplot as plt\n",
    "\n",
    "pd.options.display.max_rows = 20\n",
    "\n",
    "%matplotlib inline\n",
    "\n",
    "\n",
    "viski = pd.read_csv(\"viski.csv\")"
   ]
  },
  {
   "cell_type": "markdown",
   "metadata": {},
   "source": [
    "Poglejmo si nekaj podatkov"
   ]
  },
  {
   "cell_type": "code",
   "execution_count": 32,
   "metadata": {},
   "outputs": [
    {
     "data": {
      "text/html": [
       "<div>\n",
       "<style scoped>\n",
       "    .dataframe tbody tr th:only-of-type {\n",
       "        vertical-align: middle;\n",
       "    }\n",
       "\n",
       "    .dataframe tbody tr th {\n",
       "        vertical-align: top;\n",
       "    }\n",
       "\n",
       "    .dataframe thead th {\n",
       "        text-align: right;\n",
       "    }\n",
       "</style>\n",
       "<table border=\"1\" class=\"dataframe\">\n",
       "  <thead>\n",
       "    <tr style=\"text-align: right;\">\n",
       "      <th></th>\n",
       "      <th>ocena</th>\n",
       "      <th>ime</th>\n",
       "      <th>alkohol</th>\n",
       "      <th>kategorija</th>\n",
       "      <th>cena</th>\n",
       "      <th>opis</th>\n",
       "      <th>ocenjevalec</th>\n",
       "      <th>cas_ocene</th>\n",
       "    </tr>\n",
       "  </thead>\n",
       "  <tbody>\n",
       "    <tr>\n",
       "      <th>0</th>\n",
       "      <td>60</td>\n",
       "      <td>Woodford Reserve Master’s Collection Five Malt</td>\n",
       "      <td>45.20</td>\n",
       "      <td>American Blended Whiskey</td>\n",
       "      <td>50.0</td>\n",
       "      <td>Four barley types—two row, pale chocolate, kil...</td>\n",
       "      <td>Fred Minnick</td>\n",
       "      <td>Fall 2016</td>\n",
       "    </tr>\n",
       "    <tr>\n",
       "      <th>1</th>\n",
       "      <td>60</td>\n",
       "      <td>Cavalry</td>\n",
       "      <td>45.00</td>\n",
       "      <td>Bourbon/Tennessee</td>\n",
       "      <td>30.0</td>\n",
       "      <td>Although it’s not on the label, Cavalry uses t...</td>\n",
       "      <td>Fred Minnick</td>\n",
       "      <td>Spring 2016</td>\n",
       "    </tr>\n",
       "    <tr>\n",
       "      <th>2</th>\n",
       "      <td>63</td>\n",
       "      <td>Distillery Select 'Inchmoan' (distilled at Loc...</td>\n",
       "      <td>NaN</td>\n",
       "      <td>Single Malt Scotch</td>\n",
       "      <td>60.0</td>\n",
       "      <td>Fiery peat kiln smoke, tar, and ripe barley on...</td>\n",
       "      <td>John Hansell</td>\n",
       "      <td>Fall 2007</td>\n",
       "    </tr>\n",
       "    <tr>\n",
       "      <th>3</th>\n",
       "      <td>65</td>\n",
       "      <td>Chinook Limited Edition Signature Rye Whisky</td>\n",
       "      <td>44.90</td>\n",
       "      <td>Canadian</td>\n",
       "      <td>17.0</td>\n",
       "      <td>With its overt floral perfume notes and the sc...</td>\n",
       "      <td>Davin de Kergommeaux</td>\n",
       "      <td>Winter 2015</td>\n",
       "    </tr>\n",
       "    <tr>\n",
       "      <th>4</th>\n",
       "      <td>65</td>\n",
       "      <td>Iowa Legendary Rye</td>\n",
       "      <td>40.00</td>\n",
       "      <td>Craft Whiskey</td>\n",
       "      <td>35.0</td>\n",
       "      <td>An unaged whiskey from Carroll County, Iowa, w...</td>\n",
       "      <td>Geoffrey Kleinman</td>\n",
       "      <td>Summer 2015</td>\n",
       "    </tr>\n",
       "    <tr>\n",
       "      <th>5</th>\n",
       "      <td>67</td>\n",
       "      <td>American Born Dixie Sweet Tea Moonshine</td>\n",
       "      <td>41.50</td>\n",
       "      <td>Flavored Whisky &amp; Liqueurs</td>\n",
       "      <td>22.0</td>\n",
       "      <td>This flavored moonshine smells like a mass of ...</td>\n",
       "      <td>Geoffrey Kleinman</td>\n",
       "      <td>Fall 2014</td>\n",
       "    </tr>\n",
       "    <tr>\n",
       "      <th>6</th>\n",
       "      <td>67</td>\n",
       "      <td>Southern Comfort Fiery Pepper</td>\n",
       "      <td>35.00</td>\n",
       "      <td>Flavored Whisky &amp; Liqueurs</td>\n",
       "      <td>17.0</td>\n",
       "      <td>Does a nose of bright bubble gum and fresh-cut...</td>\n",
       "      <td>Lew Bryson</td>\n",
       "      <td>Spring 2012</td>\n",
       "    </tr>\n",
       "    <tr>\n",
       "      <th>7</th>\n",
       "      <td>68</td>\n",
       "      <td>Freedom Moonshine Apple Pie Rye</td>\n",
       "      <td>20.00</td>\n",
       "      <td>Flavored Whisky &amp; Liqueurs</td>\n",
       "      <td>20.0</td>\n",
       "      <td>The aromas from the base rye moonshine complem...</td>\n",
       "      <td>Geoffrey Kleinman</td>\n",
       "      <td>Winter 2014</td>\n",
       "    </tr>\n",
       "    <tr>\n",
       "      <th>8</th>\n",
       "      <td>68</td>\n",
       "      <td>Southern Shine Blueberry Moonshine</td>\n",
       "      <td>50.00</td>\n",
       "      <td>Flavored Whisky &amp; Liqueurs</td>\n",
       "      <td>16.0</td>\n",
       "      <td>All of the elements that work with Southern Sh...</td>\n",
       "      <td>Geoffrey Kleinman</td>\n",
       "      <td>Fall 2014</td>\n",
       "    </tr>\n",
       "    <tr>\n",
       "      <th>9</th>\n",
       "      <td>69</td>\n",
       "      <td>Cabin Fever</td>\n",
       "      <td>40.00</td>\n",
       "      <td>Flavored Whisky &amp; Liqueurs</td>\n",
       "      <td>21.0</td>\n",
       "      <td>Real maple syrup has an earthy, woodsy aroma; ...</td>\n",
       "      <td>Davin de Kergommeaux</td>\n",
       "      <td>Summer 2014</td>\n",
       "    </tr>\n",
       "    <tr>\n",
       "      <th>...</th>\n",
       "      <td>...</td>\n",
       "      <td>...</td>\n",
       "      <td>...</td>\n",
       "      <td>...</td>\n",
       "      <td>...</td>\n",
       "      <td>...</td>\n",
       "      <td>...</td>\n",
       "      <td>...</td>\n",
       "    </tr>\n",
       "    <tr>\n",
       "      <th>4900</th>\n",
       "      <td>96</td>\n",
       "      <td>Sazerac Rye</td>\n",
       "      <td>NaN</td>\n",
       "      <td>Rye Whiskey</td>\n",
       "      <td>38.0</td>\n",
       "      <td>Deep amber color. Bold and surprisingly youthf...</td>\n",
       "      <td>John Hansell</td>\n",
       "      <td>Spring 2002</td>\n",
       "    </tr>\n",
       "    <tr>\n",
       "      <th>4901</th>\n",
       "      <td>96</td>\n",
       "      <td>Pappy Van Winkle's Family Reserve (Bottle B1986)</td>\n",
       "      <td>NaN</td>\n",
       "      <td>Bourbon/Tennessee</td>\n",
       "      <td>220.0</td>\n",
       "      <td>My review of this whiskey a few years back ind...</td>\n",
       "      <td>John Hansell</td>\n",
       "      <td>Summer 2009</td>\n",
       "    </tr>\n",
       "    <tr>\n",
       "      <th>4902</th>\n",
       "      <td>96</td>\n",
       "      <td>Thomas H. Handy</td>\n",
       "      <td>66.35</td>\n",
       "      <td>Rye Whiskey</td>\n",
       "      <td>55.0</td>\n",
       "      <td>Just what the category was missing -- a stella...</td>\n",
       "      <td>John Hansell</td>\n",
       "      <td>Spring 2007</td>\n",
       "    </tr>\n",
       "    <tr>\n",
       "      <th>4903</th>\n",
       "      <td>96</td>\n",
       "      <td>Jefferson's Presidential Select (Batch #1)</td>\n",
       "      <td>NaN</td>\n",
       "      <td>Bourbon/Tennessee</td>\n",
       "      <td>90.0</td>\n",
       "      <td>A wheated bourbon from the old Stitzel-Weller ...</td>\n",
       "      <td>John Hansell</td>\n",
       "      <td>Winter 2009</td>\n",
       "    </tr>\n",
       "    <tr>\n",
       "      <th>4904</th>\n",
       "      <td>96</td>\n",
       "      <td>Gold Bowmore 1964 vintage</td>\n",
       "      <td>42.40</td>\n",
       "      <td>Single Malt Scotch</td>\n",
       "      <td>6250.0</td>\n",
       "      <td>Deep gold color. Surprisingly lively on the no...</td>\n",
       "      <td>John Hansell</td>\n",
       "      <td>Winter 2009</td>\n",
       "    </tr>\n",
       "    <tr>\n",
       "      <th>4905</th>\n",
       "      <td>96</td>\n",
       "      <td>Rittenhouse Rye</td>\n",
       "      <td>NaN</td>\n",
       "      <td>Rye Whiskey</td>\n",
       "      <td>190.0</td>\n",
       "      <td>Surprisingly lively. Very much like the 21 yea...</td>\n",
       "      <td>John Hansell</td>\n",
       "      <td>Winter 2009</td>\n",
       "    </tr>\n",
       "    <tr>\n",
       "      <th>4906</th>\n",
       "      <td>97</td>\n",
       "      <td>Johnnie Walker Blue Label</td>\n",
       "      <td>40.00</td>\n",
       "      <td>Blended Scotch Whisky</td>\n",
       "      <td>225.0</td>\n",
       "      <td>Magnificently powerful and intense. Caramels, ...</td>\n",
       "      <td>Jonny McCormick</td>\n",
       "      <td>Spring 2018</td>\n",
       "    </tr>\n",
       "    <tr>\n",
       "      <th>4907</th>\n",
       "      <td>97</td>\n",
       "      <td>Four Roses Limited Edition Small Batch (2013 R...</td>\n",
       "      <td>51.50</td>\n",
       "      <td>Bourbon/Tennessee</td>\n",
       "      <td>85.0</td>\n",
       "      <td>A marriage of 13 and 18 year old bourbons. A m...</td>\n",
       "      <td>John Hansell</td>\n",
       "      <td>Winter 2013</td>\n",
       "    </tr>\n",
       "    <tr>\n",
       "      <th>4908</th>\n",
       "      <td>97</td>\n",
       "      <td>Bowmore 46 year old (distilled 1964)</td>\n",
       "      <td>42.90</td>\n",
       "      <td>Single Malt Scotch</td>\n",
       "      <td>13500.0</td>\n",
       "      <td>There have been some legendary Bowmores from t...</td>\n",
       "      <td>Dave Broom</td>\n",
       "      <td>Fall 2012</td>\n",
       "    </tr>\n",
       "    <tr>\n",
       "      <th>4909</th>\n",
       "      <td>97</td>\n",
       "      <td>Parker's Heritage Collection, 'Golden Annivers...</td>\n",
       "      <td>50.00</td>\n",
       "      <td>Bourbon/Tennessee</td>\n",
       "      <td>150.0</td>\n",
       "      <td>This bottling celebrates master distiller Park...</td>\n",
       "      <td>John Hansell</td>\n",
       "      <td>Fall 2009</td>\n",
       "    </tr>\n",
       "  </tbody>\n",
       "</table>\n",
       "<p>4910 rows × 8 columns</p>\n",
       "</div>"
      ],
      "text/plain": [
       "      ocena                                                ime  alkohol  \\\n",
       "0        60     Woodford Reserve Master’s Collection Five Malt    45.20   \n",
       "1        60                                            Cavalry    45.00   \n",
       "2        63  Distillery Select 'Inchmoan' (distilled at Loc...      NaN   \n",
       "3        65       Chinook Limited Edition Signature Rye Whisky    44.90   \n",
       "4        65                                 Iowa Legendary Rye    40.00   \n",
       "5        67            American Born Dixie Sweet Tea Moonshine    41.50   \n",
       "6        67                      Southern Comfort Fiery Pepper    35.00   \n",
       "7        68                    Freedom Moonshine Apple Pie Rye    20.00   \n",
       "8        68                 Southern Shine Blueberry Moonshine    50.00   \n",
       "9        69                                        Cabin Fever    40.00   \n",
       "...     ...                                                ...      ...   \n",
       "4900     96                                        Sazerac Rye      NaN   \n",
       "4901     96   Pappy Van Winkle's Family Reserve (Bottle B1986)      NaN   \n",
       "4902     96                                    Thomas H. Handy    66.35   \n",
       "4903     96         Jefferson's Presidential Select (Batch #1)      NaN   \n",
       "4904     96                          Gold Bowmore 1964 vintage    42.40   \n",
       "4905     96                                    Rittenhouse Rye      NaN   \n",
       "4906     97                          Johnnie Walker Blue Label    40.00   \n",
       "4907     97  Four Roses Limited Edition Small Batch (2013 R...    51.50   \n",
       "4908     97               Bowmore 46 year old (distilled 1964)    42.90   \n",
       "4909     97  Parker's Heritage Collection, 'Golden Annivers...    50.00   \n",
       "\n",
       "                      kategorija     cena  \\\n",
       "0       American Blended Whiskey     50.0   \n",
       "1              Bourbon/Tennessee     30.0   \n",
       "2             Single Malt Scotch     60.0   \n",
       "3                       Canadian     17.0   \n",
       "4                  Craft Whiskey     35.0   \n",
       "5     Flavored Whisky & Liqueurs     22.0   \n",
       "6     Flavored Whisky & Liqueurs     17.0   \n",
       "7     Flavored Whisky & Liqueurs     20.0   \n",
       "8     Flavored Whisky & Liqueurs     16.0   \n",
       "9     Flavored Whisky & Liqueurs     21.0   \n",
       "...                          ...      ...   \n",
       "4900                 Rye Whiskey     38.0   \n",
       "4901           Bourbon/Tennessee    220.0   \n",
       "4902                 Rye Whiskey     55.0   \n",
       "4903           Bourbon/Tennessee     90.0   \n",
       "4904          Single Malt Scotch   6250.0   \n",
       "4905                 Rye Whiskey    190.0   \n",
       "4906       Blended Scotch Whisky    225.0   \n",
       "4907           Bourbon/Tennessee     85.0   \n",
       "4908          Single Malt Scotch  13500.0   \n",
       "4909           Bourbon/Tennessee    150.0   \n",
       "\n",
       "                                                   opis           ocenjevalec  \\\n",
       "0     Four barley types—two row, pale chocolate, kil...          Fred Minnick   \n",
       "1     Although it’s not on the label, Cavalry uses t...          Fred Minnick   \n",
       "2     Fiery peat kiln smoke, tar, and ripe barley on...          John Hansell   \n",
       "3     With its overt floral perfume notes and the sc...  Davin de Kergommeaux   \n",
       "4     An unaged whiskey from Carroll County, Iowa, w...     Geoffrey Kleinman   \n",
       "5     This flavored moonshine smells like a mass of ...     Geoffrey Kleinman   \n",
       "6     Does a nose of bright bubble gum and fresh-cut...            Lew Bryson   \n",
       "7     The aromas from the base rye moonshine complem...     Geoffrey Kleinman   \n",
       "8     All of the elements that work with Southern Sh...     Geoffrey Kleinman   \n",
       "9     Real maple syrup has an earthy, woodsy aroma; ...  Davin de Kergommeaux   \n",
       "...                                                 ...                   ...   \n",
       "4900  Deep amber color. Bold and surprisingly youthf...          John Hansell   \n",
       "4901  My review of this whiskey a few years back ind...          John Hansell   \n",
       "4902  Just what the category was missing -- a stella...          John Hansell   \n",
       "4903  A wheated bourbon from the old Stitzel-Weller ...          John Hansell   \n",
       "4904  Deep gold color. Surprisingly lively on the no...          John Hansell   \n",
       "4905  Surprisingly lively. Very much like the 21 yea...          John Hansell   \n",
       "4906  Magnificently powerful and intense. Caramels, ...       Jonny McCormick   \n",
       "4907  A marriage of 13 and 18 year old bourbons. A m...          John Hansell   \n",
       "4908  There have been some legendary Bowmores from t...            Dave Broom   \n",
       "4909  This bottling celebrates master distiller Park...          John Hansell   \n",
       "\n",
       "        cas_ocene  \n",
       "0       Fall 2016  \n",
       "1     Spring 2016  \n",
       "2       Fall 2007  \n",
       "3     Winter 2015  \n",
       "4     Summer 2015  \n",
       "5       Fall 2014  \n",
       "6     Spring 2012  \n",
       "7     Winter 2014  \n",
       "8       Fall 2014  \n",
       "9     Summer 2014  \n",
       "...           ...  \n",
       "4900  Spring 2002  \n",
       "4901  Summer 2009  \n",
       "4902  Spring 2007  \n",
       "4903  Winter 2009  \n",
       "4904  Winter 2009  \n",
       "4905  Winter 2009  \n",
       "4906  Spring 2018  \n",
       "4907  Winter 2013  \n",
       "4908    Fall 2012  \n",
       "4909    Fall 2009  \n",
       "\n",
       "[4910 rows x 8 columns]"
      ]
     },
     "execution_count": 32,
     "metadata": {},
     "output_type": "execute_result"
    }
   ],
   "source": [
    "viski"
   ]
  },
  {
   "cell_type": "markdown",
   "metadata": {},
   "source": [
    "### Analiza\n",
    "**Najprej si poglejmo razpored po kategorijah**"
   ]
  },
  {
   "cell_type": "code",
   "execution_count": 33,
   "metadata": {},
   "outputs": [],
   "source": [
    "viski_kategorije = viski.groupby(\"kategorija\")"
   ]
  },
  {
   "cell_type": "code",
   "execution_count": 34,
   "metadata": {
    "scrolled": true
   },
   "outputs": [
    {
     "data": {
      "text/plain": [
       "kategorija\n",
       "Single Malt Scotch                  1971\n",
       "Bourbon/Tennessee                    652\n",
       "Craft Whiskey                        385\n",
       "Blended Scotch Whisky                257\n",
       "Canadian                             256\n",
       "Rye Whiskey                          177\n",
       "Blended Malt Scotch Whisky           171\n",
       "Japanese                             101\n",
       "Irish                                 98\n",
       "Flavored Whisky & Liqueurs            62\n",
       "                                    ... \n",
       "English Grain Spirit                   2\n",
       "Straight Corn Whiskey                  2\n",
       "Single Malt Belgian Whisky             2\n",
       "English Blended Whisky                 1\n",
       "Blended Belgian Whisky                 1\n",
       "Bhutanese Whisky                       1\n",
       "Poitín                                 1\n",
       "Netherlands Whisky                     1\n",
       "Icelandic Whisky and Malt Spirit       1\n",
       "Single Grain Belgian Whisky            1\n",
       "Name: ime, Length: 59, dtype: int64"
      ]
     },
     "execution_count": 34,
     "metadata": {},
     "output_type": "execute_result"
    }
   ],
   "source": [
    "viski_kategorije[\"ime\"].count().sort_values(ascending=False)"
   ]
  },
  {
   "cell_type": "markdown",
   "metadata": {},
   "source": [
    "Kot kaže je kategoriziranje viskija precej zapleteno, saj je ta odvisna od sestavin, izvora in procesa izdelave. Ceprav vidimo kar 59 razlicnih kategorij, pa 90% viskijev spada v eno izmed 15 najbolj pogostih kategorij:"
   ]
  },
  {
   "cell_type": "code",
   "execution_count": 35,
   "metadata": {},
   "outputs": [
    {
     "data": {
      "text/plain": [
       "0.8926680244399186"
      ]
     },
     "execution_count": 35,
     "metadata": {},
     "output_type": "execute_result"
    }
   ],
   "source": [
    "vseh_skupaj = viski_kategorije[\"ime\"].count().sort_values(ascending=False).sum()\n",
    "prvih_15 = viski_kategorije[\"ime\"].count().sort_values(ascending=False).head(n=15).sum()\n",
    "prvih_15 / vseh_skupaj "
   ]
  },
  {
   "cell_type": "markdown",
   "metadata": {},
   "source": [
    "Najbolj pogosta kategorija pa prihaja iz Škotske, kar je pričakovati glede na to da so viski izumili prav tam."
   ]
  },
  {
   "cell_type": "markdown",
   "metadata": {},
   "source": [
    "Sortiranje na bolj splošne kategorije npr. po državah bi bilo na podlagi danih kategorij zelo tezko, saj iz kategorije \"Craft Whiskey\" ali \"Rye Whiskey\" ne moremo sklepati izvora. Namesto tega si poglejmo le azpored po cenah, ocenah in alkoholu."
   ]
  },
  {
   "cell_type": "code",
   "execution_count": 36,
   "metadata": {
    "scrolled": false
   },
   "outputs": [
    {
     "data": {
      "text/html": [
       "<div>\n",
       "<style scoped>\n",
       "    .dataframe tbody tr th:only-of-type {\n",
       "        vertical-align: middle;\n",
       "    }\n",
       "\n",
       "    .dataframe tbody tr th {\n",
       "        vertical-align: top;\n",
       "    }\n",
       "\n",
       "    .dataframe thead th {\n",
       "        text-align: right;\n",
       "    }\n",
       "</style>\n",
       "<table border=\"1\" class=\"dataframe\">\n",
       "  <thead>\n",
       "    <tr style=\"text-align: right;\">\n",
       "      <th></th>\n",
       "      <th>ocena</th>\n",
       "      <th>alkohol</th>\n",
       "      <th>cena</th>\n",
       "    </tr>\n",
       "    <tr>\n",
       "      <th>kategorija</th>\n",
       "      <th></th>\n",
       "      <th></th>\n",
       "      <th></th>\n",
       "    </tr>\n",
       "  </thead>\n",
       "  <tbody>\n",
       "    <tr>\n",
       "      <th>Blended Scotch Whisky</th>\n",
       "      <td>87.603113</td>\n",
       "      <td>42.685654</td>\n",
       "      <td>882.469880</td>\n",
       "    </tr>\n",
       "    <tr>\n",
       "      <th>Single Malt Scotch</th>\n",
       "      <td>86.895485</td>\n",
       "      <td>48.325676</td>\n",
       "      <td>548.488301</td>\n",
       "    </tr>\n",
       "    <tr>\n",
       "      <th>Grain Scotch Whisky</th>\n",
       "      <td>86.555556</td>\n",
       "      <td>50.154545</td>\n",
       "      <td>278.259259</td>\n",
       "    </tr>\n",
       "    <tr>\n",
       "      <th>Danish</th>\n",
       "      <td>84.250000</td>\n",
       "      <td>51.187500</td>\n",
       "      <td>248.875000</td>\n",
       "    </tr>\n",
       "    <tr>\n",
       "      <th>Miscellaneous</th>\n",
       "      <td>85.750000</td>\n",
       "      <td>49.280000</td>\n",
       "      <td>222.437500</td>\n",
       "    </tr>\n",
       "    <tr>\n",
       "      <th>Irish Single Malt</th>\n",
       "      <td>89.983051</td>\n",
       "      <td>44.284746</td>\n",
       "      <td>220.338983</td>\n",
       "    </tr>\n",
       "    <tr>\n",
       "      <th>Single Grain Whisky</th>\n",
       "      <td>85.524590</td>\n",
       "      <td>50.465574</td>\n",
       "      <td>213.049180</td>\n",
       "    </tr>\n",
       "    <tr>\n",
       "      <th>Taiwanese Whisky</th>\n",
       "      <td>90.115385</td>\n",
       "      <td>52.250000</td>\n",
       "      <td>201.230769</td>\n",
       "    </tr>\n",
       "    <tr>\n",
       "      <th>Single Malt American Whiskey</th>\n",
       "      <td>85.687500</td>\n",
       "      <td>47.950000</td>\n",
       "      <td>200.250000</td>\n",
       "    </tr>\n",
       "    <tr>\n",
       "      <th>Blended Grain Scotch Whisky</th>\n",
       "      <td>90.500000</td>\n",
       "      <td>48.150000</td>\n",
       "      <td>195.000000</td>\n",
       "    </tr>\n",
       "    <tr>\n",
       "      <th>...</th>\n",
       "      <td>...</td>\n",
       "      <td>...</td>\n",
       "      <td>...</td>\n",
       "    </tr>\n",
       "    <tr>\n",
       "      <th>American Blended Whiskey</th>\n",
       "      <td>82.928571</td>\n",
       "      <td>46.911538</td>\n",
       "      <td>47.142857</td>\n",
       "    </tr>\n",
       "    <tr>\n",
       "      <th>Wheat Whiskey</th>\n",
       "      <td>86.375000</td>\n",
       "      <td>46.462500</td>\n",
       "      <td>45.000000</td>\n",
       "    </tr>\n",
       "    <tr>\n",
       "      <th>Blended Belgian Whisky</th>\n",
       "      <td>77.000000</td>\n",
       "      <td>40.000000</td>\n",
       "      <td>44.000000</td>\n",
       "    </tr>\n",
       "    <tr>\n",
       "      <th>Italian</th>\n",
       "      <td>82.500000</td>\n",
       "      <td>40.000000</td>\n",
       "      <td>43.500000</td>\n",
       "    </tr>\n",
       "    <tr>\n",
       "      <th>Blended French Whisky</th>\n",
       "      <td>83.333333</td>\n",
       "      <td>41.933333</td>\n",
       "      <td>38.000000</td>\n",
       "    </tr>\n",
       "    <tr>\n",
       "      <th>Netherlands Whisky</th>\n",
       "      <td>87.000000</td>\n",
       "      <td>46.000000</td>\n",
       "      <td>35.000000</td>\n",
       "    </tr>\n",
       "    <tr>\n",
       "      <th>White Whiskey</th>\n",
       "      <td>77.176471</td>\n",
       "      <td>44.923529</td>\n",
       "      <td>34.882353</td>\n",
       "    </tr>\n",
       "    <tr>\n",
       "      <th>Straight Corn Whiskey</th>\n",
       "      <td>83.500000</td>\n",
       "      <td>54.450000</td>\n",
       "      <td>34.000000</td>\n",
       "    </tr>\n",
       "    <tr>\n",
       "      <th>Flavored Whisky &amp; Liqueurs</th>\n",
       "      <td>79.983871</td>\n",
       "      <td>37.859016</td>\n",
       "      <td>27.919355</td>\n",
       "    </tr>\n",
       "    <tr>\n",
       "      <th>Poitín</th>\n",
       "      <td>79.000000</td>\n",
       "      <td>40.000000</td>\n",
       "      <td>25.000000</td>\n",
       "    </tr>\n",
       "  </tbody>\n",
       "</table>\n",
       "<p>59 rows × 3 columns</p>\n",
       "</div>"
      ],
      "text/plain": [
       "                                  ocena    alkohol        cena\n",
       "kategorija                                                    \n",
       "Blended Scotch Whisky         87.603113  42.685654  882.469880\n",
       "Single Malt Scotch            86.895485  48.325676  548.488301\n",
       "Grain Scotch Whisky           86.555556  50.154545  278.259259\n",
       "Danish                        84.250000  51.187500  248.875000\n",
       "Miscellaneous                 85.750000  49.280000  222.437500\n",
       "Irish Single Malt             89.983051  44.284746  220.338983\n",
       "Single Grain Whisky           85.524590  50.465574  213.049180\n",
       "Taiwanese Whisky              90.115385  52.250000  201.230769\n",
       "Single Malt American Whiskey  85.687500  47.950000  200.250000\n",
       "Blended Grain Scotch Whisky   90.500000  48.150000  195.000000\n",
       "...                                 ...        ...         ...\n",
       "American Blended Whiskey      82.928571  46.911538   47.142857\n",
       "Wheat Whiskey                 86.375000  46.462500   45.000000\n",
       "Blended Belgian Whisky        77.000000  40.000000   44.000000\n",
       "Italian                       82.500000  40.000000   43.500000\n",
       "Blended French Whisky         83.333333  41.933333   38.000000\n",
       "Netherlands Whisky            87.000000  46.000000   35.000000\n",
       "White Whiskey                 77.176471  44.923529   34.882353\n",
       "Straight Corn Whiskey         83.500000  54.450000   34.000000\n",
       "Flavored Whisky & Liqueurs    79.983871  37.859016   27.919355\n",
       "Poitín                        79.000000  40.000000   25.000000\n",
       "\n",
       "[59 rows x 3 columns]"
      ]
     },
     "execution_count": 36,
     "metadata": {},
     "output_type": "execute_result"
    }
   ],
   "source": [
    "viski_kategorije.mean().sort_values(by='cena', ascending=False)"
   ]
  },
  {
   "cell_type": "code",
   "execution_count": 37,
   "metadata": {
    "scrolled": true
   },
   "outputs": [
    {
     "data": {
      "text/html": [
       "<div>\n",
       "<style scoped>\n",
       "    .dataframe tbody tr th:only-of-type {\n",
       "        vertical-align: middle;\n",
       "    }\n",
       "\n",
       "    .dataframe tbody tr th {\n",
       "        vertical-align: top;\n",
       "    }\n",
       "\n",
       "    .dataframe thead th {\n",
       "        text-align: right;\n",
       "    }\n",
       "</style>\n",
       "<table border=\"1\" class=\"dataframe\">\n",
       "  <thead>\n",
       "    <tr style=\"text-align: right;\">\n",
       "      <th></th>\n",
       "      <th>ocena</th>\n",
       "      <th>alkohol</th>\n",
       "      <th>cena</th>\n",
       "    </tr>\n",
       "    <tr>\n",
       "      <th>kategorija</th>\n",
       "      <th></th>\n",
       "      <th></th>\n",
       "      <th></th>\n",
       "    </tr>\n",
       "  </thead>\n",
       "  <tbody>\n",
       "    <tr>\n",
       "      <th>Irish Single Pot Still</th>\n",
       "      <td>92.791667</td>\n",
       "      <td>49.004348</td>\n",
       "      <td>178.083333</td>\n",
       "    </tr>\n",
       "    <tr>\n",
       "      <th>Blended Grain Scotch Whisky</th>\n",
       "      <td>90.500000</td>\n",
       "      <td>48.150000</td>\n",
       "      <td>195.000000</td>\n",
       "    </tr>\n",
       "    <tr>\n",
       "      <th>Taiwanese Whisky</th>\n",
       "      <td>90.115385</td>\n",
       "      <td>52.250000</td>\n",
       "      <td>201.230769</td>\n",
       "    </tr>\n",
       "    <tr>\n",
       "      <th>Irish Single Malt</th>\n",
       "      <td>89.983051</td>\n",
       "      <td>44.284746</td>\n",
       "      <td>220.338983</td>\n",
       "    </tr>\n",
       "    <tr>\n",
       "      <th>Single Grain Scotch</th>\n",
       "      <td>89.357143</td>\n",
       "      <td>47.907143</td>\n",
       "      <td>180.000000</td>\n",
       "    </tr>\n",
       "    <tr>\n",
       "      <th>Indian Whisky</th>\n",
       "      <td>88.923077</td>\n",
       "      <td>51.983243</td>\n",
       "      <td>118.589744</td>\n",
       "    </tr>\n",
       "    <tr>\n",
       "      <th>World Whisky</th>\n",
       "      <td>88.785714</td>\n",
       "      <td>46.800000</td>\n",
       "      <td>91.214286</td>\n",
       "    </tr>\n",
       "    <tr>\n",
       "      <th>Dutch</th>\n",
       "      <td>88.700000</td>\n",
       "      <td>46.850000</td>\n",
       "      <td>85.300000</td>\n",
       "    </tr>\n",
       "    <tr>\n",
       "      <th>English Grain Spirit</th>\n",
       "      <td>88.500000</td>\n",
       "      <td>43.000000</td>\n",
       "      <td>62.500000</td>\n",
       "    </tr>\n",
       "    <tr>\n",
       "      <th>Bourbon/Tennessee</th>\n",
       "      <td>88.154908</td>\n",
       "      <td>49.581584</td>\n",
       "      <td>75.759690</td>\n",
       "    </tr>\n",
       "    <tr>\n",
       "      <th>...</th>\n",
       "      <td>...</td>\n",
       "      <td>...</td>\n",
       "      <td>...</td>\n",
       "    </tr>\n",
       "    <tr>\n",
       "      <th>Belgian Whisky</th>\n",
       "      <td>82.333333</td>\n",
       "      <td>49.012500</td>\n",
       "      <td>63.888889</td>\n",
       "    </tr>\n",
       "    <tr>\n",
       "      <th>South African Whisky</th>\n",
       "      <td>82.250000</td>\n",
       "      <td>44.750000</td>\n",
       "      <td>51.000000</td>\n",
       "    </tr>\n",
       "    <tr>\n",
       "      <th>Spanish Whisky</th>\n",
       "      <td>81.500000</td>\n",
       "      <td>48.062500</td>\n",
       "      <td>91.250000</td>\n",
       "    </tr>\n",
       "    <tr>\n",
       "      <th>Flavored Whisky &amp; Liqueurs</th>\n",
       "      <td>79.983871</td>\n",
       "      <td>37.859016</td>\n",
       "      <td>27.919355</td>\n",
       "    </tr>\n",
       "    <tr>\n",
       "      <th>Poitín</th>\n",
       "      <td>79.000000</td>\n",
       "      <td>40.000000</td>\n",
       "      <td>25.000000</td>\n",
       "    </tr>\n",
       "    <tr>\n",
       "      <th>White Whiskey</th>\n",
       "      <td>77.176471</td>\n",
       "      <td>44.923529</td>\n",
       "      <td>34.882353</td>\n",
       "    </tr>\n",
       "    <tr>\n",
       "      <th>Blended Belgian Whisky</th>\n",
       "      <td>77.000000</td>\n",
       "      <td>40.000000</td>\n",
       "      <td>44.000000</td>\n",
       "    </tr>\n",
       "    <tr>\n",
       "      <th>English Blended Whisky</th>\n",
       "      <td>77.000000</td>\n",
       "      <td>40.000000</td>\n",
       "      <td>50.000000</td>\n",
       "    </tr>\n",
       "    <tr>\n",
       "      <th>Bhutanese Whisky</th>\n",
       "      <td>76.000000</td>\n",
       "      <td>40.000000</td>\n",
       "      <td>50.000000</td>\n",
       "    </tr>\n",
       "    <tr>\n",
       "      <th>Single Grain Belgian Whisky</th>\n",
       "      <td>75.000000</td>\n",
       "      <td>40.000000</td>\n",
       "      <td>57.000000</td>\n",
       "    </tr>\n",
       "  </tbody>\n",
       "</table>\n",
       "<p>59 rows × 3 columns</p>\n",
       "</div>"
      ],
      "text/plain": [
       "                                 ocena    alkohol        cena\n",
       "kategorija                                                   \n",
       "Irish Single Pot Still       92.791667  49.004348  178.083333\n",
       "Blended Grain Scotch Whisky  90.500000  48.150000  195.000000\n",
       "Taiwanese Whisky             90.115385  52.250000  201.230769\n",
       "Irish Single Malt            89.983051  44.284746  220.338983\n",
       "Single Grain Scotch          89.357143  47.907143  180.000000\n",
       "Indian Whisky                88.923077  51.983243  118.589744\n",
       "World Whisky                 88.785714  46.800000   91.214286\n",
       "Dutch                        88.700000  46.850000   85.300000\n",
       "English Grain Spirit         88.500000  43.000000   62.500000\n",
       "Bourbon/Tennessee            88.154908  49.581584   75.759690\n",
       "...                                ...        ...         ...\n",
       "Belgian Whisky               82.333333  49.012500   63.888889\n",
       "South African Whisky         82.250000  44.750000   51.000000\n",
       "Spanish Whisky               81.500000  48.062500   91.250000\n",
       "Flavored Whisky & Liqueurs   79.983871  37.859016   27.919355\n",
       "Poitín                       79.000000  40.000000   25.000000\n",
       "White Whiskey                77.176471  44.923529   34.882353\n",
       "Blended Belgian Whisky       77.000000  40.000000   44.000000\n",
       "English Blended Whisky       77.000000  40.000000   50.000000\n",
       "Bhutanese Whisky             76.000000  40.000000   50.000000\n",
       "Single Grain Belgian Whisky  75.000000  40.000000   57.000000\n",
       "\n",
       "[59 rows x 3 columns]"
      ]
     },
     "execution_count": 37,
     "metadata": {},
     "output_type": "execute_result"
    }
   ],
   "source": [
    "viski_kategorije.mean().sort_values(by='ocena', ascending=False)"
   ]
  },
  {
   "cell_type": "markdown",
   "metadata": {},
   "source": [
    "Med cenejšimi vidimo veliko kategorij, ki se pojavijo le enkrat.\n",
    "Najcenejši Poitin v resnici sploh ne spada med viskije, nad njim pa so \n",
    "viskiji z okusom, ki tudi niso čisto pravi viski. Ti kategoriji se pojavita\n",
    "tudi med najslabše ocenjenimi. \n",
    "\n",
    "Večina najslabše ocenjenih kategorij je povprečno cenejših od 60 dolarjev.\n",
    "\n",
    "Prvi dve med najdražjimi sta tudi med štirimi najbolj zastopanimi kategorijami, vendar pa nista med najbolj ocenjenimi. Verjetno hoče vsak prodajati drage viskije, narediti jih še dobre pa je malo težje. \n",
    "\n",
    "Najboljše ocenjeni se gibljejo med ceno 175 - 200 dolarjev, kar kaže da je za kakovost res treba malo več plačati.\n"
   ]
  },
  {
   "cell_type": "code",
   "execution_count": 38,
   "metadata": {
    "scrolled": true
   },
   "outputs": [
    {
     "data": {
      "text/html": [
       "<div>\n",
       "<style scoped>\n",
       "    .dataframe tbody tr th:only-of-type {\n",
       "        vertical-align: middle;\n",
       "    }\n",
       "\n",
       "    .dataframe tbody tr th {\n",
       "        vertical-align: top;\n",
       "    }\n",
       "\n",
       "    .dataframe thead th {\n",
       "        text-align: right;\n",
       "    }\n",
       "</style>\n",
       "<table border=\"1\" class=\"dataframe\">\n",
       "  <thead>\n",
       "    <tr style=\"text-align: right;\">\n",
       "      <th></th>\n",
       "      <th>ocena</th>\n",
       "      <th>alkohol</th>\n",
       "      <th>cena</th>\n",
       "    </tr>\n",
       "    <tr>\n",
       "      <th>kategorija</th>\n",
       "      <th></th>\n",
       "      <th></th>\n",
       "      <th></th>\n",
       "    </tr>\n",
       "  </thead>\n",
       "  <tbody>\n",
       "    <tr>\n",
       "      <th>Straight Corn Whiskey</th>\n",
       "      <td>83.500000</td>\n",
       "      <td>54.450000</td>\n",
       "      <td>34.000000</td>\n",
       "    </tr>\n",
       "    <tr>\n",
       "      <th>Taiwanese Whisky</th>\n",
       "      <td>90.115385</td>\n",
       "      <td>52.250000</td>\n",
       "      <td>201.230769</td>\n",
       "    </tr>\n",
       "    <tr>\n",
       "      <th>Indian Whisky</th>\n",
       "      <td>88.923077</td>\n",
       "      <td>51.983243</td>\n",
       "      <td>118.589744</td>\n",
       "    </tr>\n",
       "    <tr>\n",
       "      <th>Danish</th>\n",
       "      <td>84.250000</td>\n",
       "      <td>51.187500</td>\n",
       "      <td>248.875000</td>\n",
       "    </tr>\n",
       "    <tr>\n",
       "      <th>Single Grain Whisky</th>\n",
       "      <td>85.524590</td>\n",
       "      <td>50.465574</td>\n",
       "      <td>213.049180</td>\n",
       "    </tr>\n",
       "    <tr>\n",
       "      <th>Grain Scotch Whisky</th>\n",
       "      <td>86.555556</td>\n",
       "      <td>50.154545</td>\n",
       "      <td>278.259259</td>\n",
       "    </tr>\n",
       "    <tr>\n",
       "      <th>Rye Whiskey</th>\n",
       "      <td>87.807910</td>\n",
       "      <td>49.956582</td>\n",
       "      <td>78.739884</td>\n",
       "    </tr>\n",
       "    <tr>\n",
       "      <th>Bourbon/Tennessee</th>\n",
       "      <td>88.154908</td>\n",
       "      <td>49.581584</td>\n",
       "      <td>75.759690</td>\n",
       "    </tr>\n",
       "    <tr>\n",
       "      <th>Single Malt English Whisky</th>\n",
       "      <td>85.107143</td>\n",
       "      <td>49.514815</td>\n",
       "      <td>104.178571</td>\n",
       "    </tr>\n",
       "    <tr>\n",
       "      <th>Miscellaneous</th>\n",
       "      <td>85.750000</td>\n",
       "      <td>49.280000</td>\n",
       "      <td>222.437500</td>\n",
       "    </tr>\n",
       "    <tr>\n",
       "      <th>...</th>\n",
       "      <td>...</td>\n",
       "      <td>...</td>\n",
       "      <td>...</td>\n",
       "    </tr>\n",
       "    <tr>\n",
       "      <th>Irish Blended Whiskey</th>\n",
       "      <td>86.958333</td>\n",
       "      <td>42.847917</td>\n",
       "      <td>191.829787</td>\n",
       "    </tr>\n",
       "    <tr>\n",
       "      <th>Blended Scotch Whisky</th>\n",
       "      <td>87.603113</td>\n",
       "      <td>42.685654</td>\n",
       "      <td>882.469880</td>\n",
       "    </tr>\n",
       "    <tr>\n",
       "      <th>Blended French Whisky</th>\n",
       "      <td>83.333333</td>\n",
       "      <td>41.933333</td>\n",
       "      <td>38.000000</td>\n",
       "    </tr>\n",
       "    <tr>\n",
       "      <th>Blended Belgian Whisky</th>\n",
       "      <td>77.000000</td>\n",
       "      <td>40.000000</td>\n",
       "      <td>44.000000</td>\n",
       "    </tr>\n",
       "    <tr>\n",
       "      <th>English Blended Whisky</th>\n",
       "      <td>77.000000</td>\n",
       "      <td>40.000000</td>\n",
       "      <td>50.000000</td>\n",
       "    </tr>\n",
       "    <tr>\n",
       "      <th>Bhutanese Whisky</th>\n",
       "      <td>76.000000</td>\n",
       "      <td>40.000000</td>\n",
       "      <td>50.000000</td>\n",
       "    </tr>\n",
       "    <tr>\n",
       "      <th>Single Grain Belgian Whisky</th>\n",
       "      <td>75.000000</td>\n",
       "      <td>40.000000</td>\n",
       "      <td>57.000000</td>\n",
       "    </tr>\n",
       "    <tr>\n",
       "      <th>Poitín</th>\n",
       "      <td>79.000000</td>\n",
       "      <td>40.000000</td>\n",
       "      <td>25.000000</td>\n",
       "    </tr>\n",
       "    <tr>\n",
       "      <th>Italian</th>\n",
       "      <td>82.500000</td>\n",
       "      <td>40.000000</td>\n",
       "      <td>43.500000</td>\n",
       "    </tr>\n",
       "    <tr>\n",
       "      <th>Flavored Whisky &amp; Liqueurs</th>\n",
       "      <td>79.983871</td>\n",
       "      <td>37.859016</td>\n",
       "      <td>27.919355</td>\n",
       "    </tr>\n",
       "  </tbody>\n",
       "</table>\n",
       "<p>59 rows × 3 columns</p>\n",
       "</div>"
      ],
      "text/plain": [
       "                                 ocena    alkohol        cena\n",
       "kategorija                                                   \n",
       "Straight Corn Whiskey        83.500000  54.450000   34.000000\n",
       "Taiwanese Whisky             90.115385  52.250000  201.230769\n",
       "Indian Whisky                88.923077  51.983243  118.589744\n",
       "Danish                       84.250000  51.187500  248.875000\n",
       "Single Grain Whisky          85.524590  50.465574  213.049180\n",
       "Grain Scotch Whisky          86.555556  50.154545  278.259259\n",
       "Rye Whiskey                  87.807910  49.956582   78.739884\n",
       "Bourbon/Tennessee            88.154908  49.581584   75.759690\n",
       "Single Malt English Whisky   85.107143  49.514815  104.178571\n",
       "Miscellaneous                85.750000  49.280000  222.437500\n",
       "...                                ...        ...         ...\n",
       "Irish Blended Whiskey        86.958333  42.847917  191.829787\n",
       "Blended Scotch Whisky        87.603113  42.685654  882.469880\n",
       "Blended French Whisky        83.333333  41.933333   38.000000\n",
       "Blended Belgian Whisky       77.000000  40.000000   44.000000\n",
       "English Blended Whisky       77.000000  40.000000   50.000000\n",
       "Bhutanese Whisky             76.000000  40.000000   50.000000\n",
       "Single Grain Belgian Whisky  75.000000  40.000000   57.000000\n",
       "Poitín                       79.000000  40.000000   25.000000\n",
       "Italian                      82.500000  40.000000   43.500000\n",
       "Flavored Whisky & Liqueurs   79.983871  37.859016   27.919355\n",
       "\n",
       "[59 rows x 3 columns]"
      ]
     },
     "execution_count": 38,
     "metadata": {},
     "output_type": "execute_result"
    }
   ],
   "source": [
    "viski_kategorije.mean().sort_values(by='alkohol', ascending=False)"
   ]
  },
  {
   "cell_type": "markdown",
   "metadata": {},
   "source": [
    "Vse kategorije povprečje vsebnosti alkohola nad 40%, razen viskijev z okusom.\n",
    "Med tistimi z največ alkohola pa je Tajvanski viski, ki ima tudi visoko\n",
    "povprečno oceno. Ali obstaja povezava med %alkohola in oceno bomo raziskali\n",
    "kasneje."
   ]
  },
  {
   "cell_type": "markdown",
   "metadata": {},
   "source": [
    "**Katere ocene pa sploh so dobre?**"
   ]
  },
  {
   "cell_type": "code",
   "execution_count": 39,
   "metadata": {},
   "outputs": [
    {
     "data": {
      "text/plain": [
       "ocena\n",
       "60      2\n",
       "63      1\n",
       "65      2\n",
       "67      2\n",
       "68      2\n",
       "69      2\n",
       "70      7\n",
       "71      5\n",
       "72     12\n",
       "73     13\n",
       "     ... \n",
       "88    459\n",
       "89    393\n",
       "90    449\n",
       "91    279\n",
       "92    285\n",
       "93    208\n",
       "94    111\n",
       "95     72\n",
       "96     45\n",
       "97      4\n",
       "Length: 34, dtype: int64"
      ]
     },
     "execution_count": 39,
     "metadata": {},
     "output_type": "execute_result"
    }
   ],
   "source": [
    "viski_ocene = viski.groupby(\"ocena\").size()\n",
    "viski_ocene"
   ]
  },
  {
   "cell_type": "code",
   "execution_count": 40,
   "metadata": {},
   "outputs": [
    {
     "data": {
      "text/plain": [
       "<matplotlib.axes._subplots.AxesSubplot at 0x4a600f0>"
      ]
     },
     "execution_count": 40,
     "metadata": {},
     "output_type": "execute_result"
    },
    {
     "data": {
      "image/png": "[encoded data removed]",
      "text/plain": [
       "<Figure size 432x288 with 1 Axes>"
      ]
     },
     "metadata": {
      "needs_background": "light"
     },
     "output_type": "display_data"
    }
   ],
   "source": [
    "viski_ocene.plot()"
   ]
  },
  {
   "cell_type": "markdown",
   "metadata": {},
   "source": [
    "Iz grafa in tabele vidimo, da se večina ocen giblje med 80 in 97 točkami. \n",
    "V tem območju dobimo skoraj pričakovano normalno porazdelitev z vrhom pri 88, zanimiv je morda le padec pri 89.\n",
    "Verjetno gre to pripisati subjektivni naravi ocenjevanja viskija in temu,da je ocena morda 89 nehvaležna, say je tik pod \"desetko\" (kot na fakulteti)."
   ]
  },
  {
   "cell_type": "markdown",
   "metadata": {},
   "source": [
    "**Ali je ocena odvisna od cene?**"
   ]
  },
  {
   "cell_type": "code",
   "execution_count": 67,
   "metadata": {},
   "outputs": [
    {
     "data": {
      "text/plain": [
       "<matplotlib.axes._subplots.AxesSubplot at 0x6343850>"
      ]
     },
     "execution_count": 67,
     "metadata": {},
     "output_type": "execute_result"
    },
    {
     "data": {
      "image/png": "[encoded data removed]",
      "text/plain": [
       "<Figure size 432x288 with 1 Axes>"
      ]
     },
     "metadata": {
      "needs_background": "light"
     },
     "output_type": "display_data"
    }
   ],
   "source": [
    "viski[viski['cena'] < 50000].plot.scatter('ocena', 'cena')"
   ]
  },
  {
   "cell_type": "code",
   "execution_count": 52,
   "metadata": {},
   "outputs": [
    {
     "data": {
      "text/plain": [
       "<matplotlib.axes._subplots.AxesSubplot at 0x6252470>"
      ]
     },
     "execution_count": 52,
     "metadata": {},
     "output_type": "execute_result"
    },
    {
     "data": {
      "image/png": "[encoded data removed]",
      "text/plain": [
       "<Figure size 432x288 with 1 Axes>"
      ]
     },
     "metadata": {
      "needs_background": "light"
     },
     "output_type": "display_data"
    }
   ],
   "source": [
    "viski_ocene = viski[viski['ocena'] > 79].groupby('ocena')\n",
    "viski_ocene['cena'].mean().plot.bar(colormap='Accent')"
   ]
  },
  {
   "cell_type": "code",
   "execution_count": 53,
   "metadata": {},
   "outputs": [
    {
     "data": {
      "text/plain": [
       "<matplotlib.axes._subplots.AxesSubplot at 0x6289ff0>"
      ]
     },
     "execution_count": 53,
     "metadata": {},
     "output_type": "execute_result"
    },
    {
     "data": {
      "image/png": "[encoded data removed]",
      "text/plain": [
       "<Figure size 432x288 with 1 Axes>"
      ]
     },
     "metadata": {
      "needs_background": "light"
     },
     "output_type": "display_data"
    }
   ],
   "source": [
    "viski.plot.scatter('alkohol', 'cena')"
   ]
  },
  {
   "cell_type": "markdown",
   "metadata": {},
   "source": [
    "Poglejmo še viskije cenejše od 1000$, da bo graf bolj pregleden"
   ]
  },
  {
   "cell_type": "code",
   "execution_count": 54,
   "metadata": {},
   "outputs": [
    {
     "data": {
      "text/plain": [
       "<matplotlib.axes._subplots.AxesSubplot at 0x62b48b0>"
      ]
     },
     "execution_count": 54,
     "metadata": {},
     "output_type": "execute_result"
    },
    {
     "data": {
      "image/png": "[encoded data removed]",
      "text/plain": [
       "<Figure size 432x288 with 1 Axes>"
      ]
     },
     "metadata": {
      "needs_background": "light"
     },
     "output_type": "display_data"
    }
   ],
   "source": [
    "viski[viski['cena'] < 1000].plot.scatter('alkohol', 'cena')"
   ]
  },
  {
   "cell_type": "markdown",
   "metadata": {},
   "source": [
    "Vidimo, da odvisnosti med ceno in vsebnostjo alkohola ni, večina viskijev pa se nahaja v območju med  40%- 60% alkohola.\n",
    "Izgleda pa, da je meja 40% zelo stroga, vsebnost alkohola pod 60% pa zgolj priporočilo."
   ]
  },
  {
   "cell_type": "markdown",
   "metadata": {},
   "source": [
    "Pa si poglejmo viskije z manj kot 40% alkohola."
   ]
  },
  {
   "cell_type": "code",
   "execution_count": 55,
   "metadata": {},
   "outputs": [
    {
     "data": {
      "text/plain": [
       "kategorija\n",
       "Flavored Whisky & Liqueurs    24\n",
       "Canadian                       1\n",
       "American Blended Whiskey       1\n",
       "Name: ime, dtype: int64"
      ]
     },
     "execution_count": 55,
     "metadata": {},
     "output_type": "execute_result"
    }
   ],
   "source": [
    "pod_40 = viski[viski['alkohol'] < 40].groupby(\"kategorija\")\n",
    "pod_40['ime'].count().sort_values(ascending=False)"
   ]
  },
  {
   "cell_type": "markdown",
   "metadata": {},
   "source": [
    "Pričakovali smo, da bomo našli viskije z okusom, vendar sta tu še dve izjemi.\n",
    "Poglejmo ju bolj podrobno"
   ]
  },
  {
   "cell_type": "code",
   "execution_count": 56,
   "metadata": {},
   "outputs": [
    {
     "data": {
      "text/html": [
       "<div>\n",
       "<style scoped>\n",
       "    .dataframe tbody tr th:only-of-type {\n",
       "        vertical-align: middle;\n",
       "    }\n",
       "\n",
       "    .dataframe tbody tr th {\n",
       "        vertical-align: top;\n",
       "    }\n",
       "\n",
       "    .dataframe thead th {\n",
       "        text-align: right;\n",
       "    }\n",
       "</style>\n",
       "<table border=\"1\" class=\"dataframe\">\n",
       "  <thead>\n",
       "    <tr style=\"text-align: right;\">\n",
       "      <th></th>\n",
       "      <th>ocena</th>\n",
       "      <th>ime</th>\n",
       "      <th>alkohol</th>\n",
       "      <th>kategorija</th>\n",
       "      <th>cena</th>\n",
       "      <th>opis</th>\n",
       "      <th>ocenjevalec</th>\n",
       "      <th>cas_ocene</th>\n",
       "      <th>leto</th>\n",
       "      <th>mesec</th>\n",
       "    </tr>\n",
       "  </thead>\n",
       "  <tbody>\n",
       "    <tr>\n",
       "      <th>15</th>\n",
       "      <td>70</td>\n",
       "      <td>Fireball Cinnamon Whisky</td>\n",
       "      <td>33.0</td>\n",
       "      <td>Canadian</td>\n",
       "      <td>16.0</td>\n",
       "      <td>It does say “whisky” on the label...followed b...</td>\n",
       "      <td>Lew Bryson</td>\n",
       "      <td>Winter 2011</td>\n",
       "      <td>2011</td>\n",
       "      <td>Winter</td>\n",
       "    </tr>\n",
       "    <tr>\n",
       "      <th>124</th>\n",
       "      <td>77</td>\n",
       "      <td>Black Eagle Honey</td>\n",
       "      <td>35.0</td>\n",
       "      <td>American Blended Whiskey</td>\n",
       "      <td>12.0</td>\n",
       "      <td>Odd aroma, more like a weedy, aromatic bark th...</td>\n",
       "      <td>Lew Bryson</td>\n",
       "      <td>Fall 2013</td>\n",
       "      <td>2013</td>\n",
       "      <td>Fall</td>\n",
       "    </tr>\n",
       "  </tbody>\n",
       "</table>\n",
       "</div>"
      ],
      "text/plain": [
       "     ocena                       ime  alkohol                kategorija  cena  \\\n",
       "15      70  Fireball Cinnamon Whisky     33.0                  Canadian  16.0   \n",
       "124     77         Black Eagle Honey     35.0  American Blended Whiskey  12.0   \n",
       "\n",
       "                                                  opis ocenjevalec  \\\n",
       "15   It does say “whisky” on the label...followed b...  Lew Bryson   \n",
       "124  Odd aroma, more like a weedy, aromatic bark th...  Lew Bryson   \n",
       "\n",
       "       cas_ocene   leto    mesec  \n",
       "15   Winter 2011   2011  Winter   \n",
       "124    Fall 2013   2013    Fall   "
      ]
     },
     "execution_count": 56,
     "metadata": {},
     "output_type": "execute_result"
    }
   ],
   "source": [
    "viski[(viski['alkohol'] < 40) & (viski['kategorija'] == 'American Blended Whiskey') | (viski['kategorija'] == 'Canadian') & (viski['alkohol'] < 40) ]"
   ]
  },
  {
   "cell_type": "code",
   "execution_count": 57,
   "metadata": {},
   "outputs": [
    {
     "data": {
      "text/plain": [
       "\"It does say “whisky” on the label...followed by “with natural cinnamon flavor.” It's clear from the first sniff that this is a one-trick pony: hot, fiery cinnamon. But is there whisky flavor in there? Fireball's as sweet as the liqueur proof would indicate, and as hot as advertised, and there's only a hint of whisky character under the fire. A novelty for tailgating; probably great in hot chocolate. \""
      ]
     },
     "execution_count": 57,
     "metadata": {},
     "output_type": "execute_result"
    }
   ],
   "source": [
    "viski.iloc[15]['opis']"
   ]
  },
  {
   "cell_type": "markdown",
   "metadata": {},
   "source": [
    "Iz opisa je razvidno da tudi ta spada v kategorijo Flavored Whisky, torej gre le za napačno kategoriziranje."
   ]
  },
  {
   "cell_type": "code",
   "execution_count": 58,
   "metadata": {
    "scrolled": true
   },
   "outputs": [
    {
     "data": {
      "text/plain": [
       "'Odd aroma, more like a weedy, aromatic bark than honey; wonder what the bees were gathering from? Very sweet, on the rich and cloying side, but without the real honey character that makes Jack Daniel’s Honey the best of this bunch, and I can’t get over the aroma. The only saving grace is that even at 35%, the bourbon still manages to peek through; it’s not enough.'"
      ]
     },
     "execution_count": 58,
     "metadata": {},
     "output_type": "execute_result"
    }
   ],
   "source": [
    "viski.iloc[124]['opis']"
   ]
  },
  {
   "cell_type": "markdown",
   "metadata": {},
   "source": [
    "Kot kaže gre pri tem za neuspel eksperiment izven norme. Vendar pa ocenjevalec komentira, da alkohol pride na plan kljub nizki vsebnosti. "
   ]
  },
  {
   "cell_type": "code",
   "execution_count": 60,
   "metadata": {},
   "outputs": [
    {
     "data": {
      "text/plain": [
       "ocenjevalec\n",
       "John Hansell              1117\n",
       "Jonny McCormick            847\n",
       "Gavin Smith                824\n",
       "Dave Broom                 508\n",
       "Lew Bryson                 372\n",
       "Dominic Roskrow            242\n",
       "Davin de Kergommeaux       231\n",
       "Fred Minnick               189\n",
       "Susannah Skiver Barton     187\n",
       "Jeffery Lindenmuth         186\n",
       "Geoffrey Kleinman           93\n",
       "David Fleming               92\n",
       "Adam Polonski               22\n",
       "Name: ocenjevalec, dtype: int64"
      ]
     },
     "execution_count": 60,
     "metadata": {},
     "output_type": "execute_result"
    }
   ],
   "source": [
    "viski_ocenjevalec = viski.groupby(\"ocenjevalec\")\n",
    "viski_ocenjevalec['ocenjevalec'].count().sort_values(ascending=False)"
   ]
  },
  {
   "cell_type": "code",
   "execution_count": 61,
   "metadata": {},
   "outputs": [
    {
     "data": {
      "text/html": [
       "<div>\n",
       "<style scoped>\n",
       "    .dataframe tbody tr th:only-of-type {\n",
       "        vertical-align: middle;\n",
       "    }\n",
       "\n",
       "    .dataframe tbody tr th {\n",
       "        vertical-align: top;\n",
       "    }\n",
       "\n",
       "    .dataframe thead th {\n",
       "        text-align: right;\n",
       "    }\n",
       "</style>\n",
       "<table border=\"1\" class=\"dataframe\">\n",
       "  <thead>\n",
       "    <tr style=\"text-align: right;\">\n",
       "      <th></th>\n",
       "      <th>ocena</th>\n",
       "      <th>alkohol</th>\n",
       "      <th>cena</th>\n",
       "    </tr>\n",
       "    <tr>\n",
       "      <th>ocenjevalec</th>\n",
       "      <th></th>\n",
       "      <th></th>\n",
       "      <th></th>\n",
       "    </tr>\n",
       "  </thead>\n",
       "  <tbody>\n",
       "    <tr>\n",
       "      <th>David Fleming</th>\n",
       "      <td>88.293478</td>\n",
       "      <td>49.276703</td>\n",
       "      <td>92.619565</td>\n",
       "    </tr>\n",
       "    <tr>\n",
       "      <th>Adam Polonski</th>\n",
       "      <td>88.136364</td>\n",
       "      <td>49.568182</td>\n",
       "      <td>66.809524</td>\n",
       "    </tr>\n",
       "    <tr>\n",
       "      <th>Jonny McCormick</th>\n",
       "      <td>87.795750</td>\n",
       "      <td>45.797630</td>\n",
       "      <td>182.110979</td>\n",
       "    </tr>\n",
       "    <tr>\n",
       "      <th>Gavin Smith</th>\n",
       "      <td>87.514563</td>\n",
       "      <td>47.541830</td>\n",
       "      <td>678.621490</td>\n",
       "    </tr>\n",
       "    <tr>\n",
       "      <th>Susannah Skiver Barton</th>\n",
       "      <td>87.427807</td>\n",
       "      <td>47.052174</td>\n",
       "      <td>58.955056</td>\n",
       "    </tr>\n",
       "    <tr>\n",
       "      <th>John Hansell</th>\n",
       "      <td>87.295434</td>\n",
       "      <td>48.260887</td>\n",
       "      <td>252.545699</td>\n",
       "    </tr>\n",
       "    <tr>\n",
       "      <th>Jeffery Lindenmuth</th>\n",
       "      <td>87.112903</td>\n",
       "      <td>48.629670</td>\n",
       "      <td>81.527473</td>\n",
       "    </tr>\n",
       "    <tr>\n",
       "      <th>Fred Minnick</th>\n",
       "      <td>86.835979</td>\n",
       "      <td>50.536346</td>\n",
       "      <td>107.611702</td>\n",
       "    </tr>\n",
       "    <tr>\n",
       "      <th>Dominic Roskrow</th>\n",
       "      <td>86.181818</td>\n",
       "      <td>47.372414</td>\n",
       "      <td>108.421488</td>\n",
       "    </tr>\n",
       "    <tr>\n",
       "      <th>Davin de Kergommeaux</th>\n",
       "      <td>86.134199</td>\n",
       "      <td>44.077074</td>\n",
       "      <td>62.170996</td>\n",
       "    </tr>\n",
       "    <tr>\n",
       "      <th>Dave Broom</th>\n",
       "      <td>85.984252</td>\n",
       "      <td>49.790485</td>\n",
       "      <td>879.094488</td>\n",
       "    </tr>\n",
       "    <tr>\n",
       "      <th>Geoffrey Kleinman</th>\n",
       "      <td>83.666667</td>\n",
       "      <td>46.774194</td>\n",
       "      <td>83.365591</td>\n",
       "    </tr>\n",
       "    <tr>\n",
       "      <th>Lew Bryson</th>\n",
       "      <td>83.000000</td>\n",
       "      <td>45.444758</td>\n",
       "      <td>51.551075</td>\n",
       "    </tr>\n",
       "  </tbody>\n",
       "</table>\n",
       "</div>"
      ],
      "text/plain": [
       "                            ocena    alkohol        cena\n",
       "ocenjevalec                                             \n",
       "David Fleming           88.293478  49.276703   92.619565\n",
       "Adam Polonski           88.136364  49.568182   66.809524\n",
       "Jonny McCormick         87.795750  45.797630  182.110979\n",
       "Gavin Smith             87.514563  47.541830  678.621490\n",
       "Susannah Skiver Barton  87.427807  47.052174   58.955056\n",
       "John Hansell            87.295434  48.260887  252.545699\n",
       "Jeffery Lindenmuth      87.112903  48.629670   81.527473\n",
       "Fred Minnick            86.835979  50.536346  107.611702\n",
       "Dominic Roskrow         86.181818  47.372414  108.421488\n",
       "Davin de Kergommeaux    86.134199  44.077074   62.170996\n",
       "Dave Broom              85.984252  49.790485  879.094488\n",
       "Geoffrey Kleinman       83.666667  46.774194   83.365591\n",
       "Lew Bryson              83.000000  45.444758   51.551075"
      ]
     },
     "execution_count": 61,
     "metadata": {},
     "output_type": "execute_result"
    }
   ],
   "source": [
    "viski_ocenjevalec.mean().sort_values(by='ocena', ascending=False)"
   ]
  },
  {
   "cell_type": "markdown",
   "metadata": {},
   "source": [
    "Za konec pa poglejmo še kakšen vpliv ima čeas ocene"
   ]
  },
  {
   "cell_type": "code",
   "execution_count": 41,
   "metadata": {},
   "outputs": [],
   "source": [
    "viski_cas = viski.groupby(\"cas_ocene\")"
   ]
  },
  {
   "cell_type": "code",
   "execution_count": 42,
   "metadata": {},
   "outputs": [],
   "source": [
    "viski['leto'] = viski.cas_ocene.replace(to_replace=\"Fall|Spring|Winter|Summer\", value=\"\",inplace=False, limit=None, regex=True, method='pad')"
   ]
  },
  {
   "cell_type": "code",
   "execution_count": 43,
   "metadata": {},
   "outputs": [],
   "source": [
    "viski['mesec'] = viski.cas_ocene.replace(to_replace=\"\\d\\d\\d\\d\", value=\"\",inplace=False, limit=None, regex=True, method='pad')"
   ]
  },
  {
   "cell_type": "code",
   "execution_count": 62,
   "metadata": {},
   "outputs": [
    {
     "data": {
      "text/plain": [
       "4910"
      ]
     },
     "execution_count": 62,
     "metadata": {},
     "output_type": "execute_result"
    }
   ],
   "source": [
    "viski_leto = viski.groupby(\"leto\")\n",
    "viski_mesec = viski.groupby(\"mesec\")\n",
    "viski_mesec['mesec'].count().sum()"
   ]
  },
  {
   "cell_type": "code",
   "execution_count": 47,
   "metadata": {},
   "outputs": [
    {
     "data": {
      "text/plain": [
       "<matplotlib.axes._subplots.AxesSubplot at 0x620d6f0>"
      ]
     },
     "execution_count": 47,
     "metadata": {},
     "output_type": "execute_result"
    },
    {
     "data": {
      "image/png": "[encoded data removed]",
      "text/plain": [
       "<Figure size 432x288 with 1 Axes>"
      ]
     },
     "metadata": {
      "needs_background": "light"
     },
     "output_type": "display_data"
    }
   ],
   "source": [
    "viski_leto.size().sort_values(ascending=False).plot.bar(y='stevilo reviewov')"
   ]
  },
  {
   "cell_type": "markdown",
   "metadata": {},
   "source": [
    "Vidimo, da je stran Whiskey advocate izrazito bolj aktivna od leta 2010 naprej. Mogoče ta stran sploh se ni obstajala pred letom 2010, in so ocene naknadno prepisali iz revije, ki so jo izdajali ze prej, vendar je to zgolj ugibanje. Tudi na internetu nisem zasledil podatkov o času delovanja spletne strani, ali revije.\n",
    "Možno pa je tudi, da je povpraševanje to taki obliki ocenjevanja viskija v zadnjih petih letih močno naraslo."
   ]
  },
  {
   "cell_type": "code",
   "execution_count": 48,
   "metadata": {
    "scrolled": true
   },
   "outputs": [
    {
     "data": {
      "text/plain": [
       "<matplotlib.axes._subplots.AxesSubplot at 0x4a07250>"
      ]
     },
     "execution_count": 48,
     "metadata": {},
     "output_type": "execute_result"
    },
    {
     "data": {
      "image/png": "[encoded data removed]",
      "text/plain": [
       "<Figure size 432x288 with 1 Axes>"
      ]
     },
     "metadata": {
      "needs_background": "light"
     },
     "output_type": "display_data"
    }
   ],
   "source": [
    "viski_mesec.size().sort_values(ascending=False).plot.bar(color=['orange', 'lightblue', 'gold',\n",
    "                                                          'brown'])"
   ]
  },
  {
   "cell_type": "markdown",
   "metadata": {},
   "source": [
    "Izkaže se, da je število ocenjevanj viskijev neodvisno od letnega časa"
   ]
  },
  {
   "cell_type": "code",
   "execution_count": 49,
   "metadata": {},
   "outputs": [
    {
     "data": {
      "text/html": [
       "<div>\n",
       "<style scoped>\n",
       "    .dataframe tbody tr th:only-of-type {\n",
       "        vertical-align: middle;\n",
       "    }\n",
       "\n",
       "    .dataframe tbody tr th {\n",
       "        vertical-align: top;\n",
       "    }\n",
       "\n",
       "    .dataframe thead th {\n",
       "        text-align: right;\n",
       "    }\n",
       "</style>\n",
       "<table border=\"1\" class=\"dataframe\">\n",
       "  <thead>\n",
       "    <tr style=\"text-align: right;\">\n",
       "      <th></th>\n",
       "      <th>ocena</th>\n",
       "      <th>alkohol</th>\n",
       "      <th>cena</th>\n",
       "    </tr>\n",
       "    <tr>\n",
       "      <th>mesec</th>\n",
       "      <th></th>\n",
       "      <th></th>\n",
       "      <th></th>\n",
       "    </tr>\n",
       "  </thead>\n",
       "  <tbody>\n",
       "    <tr>\n",
       "      <th>Summer</th>\n",
       "      <td>86.707062</td>\n",
       "      <td>46.844888</td>\n",
       "      <td>399.916300</td>\n",
       "    </tr>\n",
       "    <tr>\n",
       "      <th>Spring</th>\n",
       "      <td>86.989057</td>\n",
       "      <td>47.705280</td>\n",
       "      <td>347.303480</td>\n",
       "    </tr>\n",
       "    <tr>\n",
       "      <th>Winter</th>\n",
       "      <td>86.994453</td>\n",
       "      <td>47.666281</td>\n",
       "      <td>273.470916</td>\n",
       "    </tr>\n",
       "    <tr>\n",
       "      <th>Fall</th>\n",
       "      <td>86.456207</td>\n",
       "      <td>47.294759</td>\n",
       "      <td>269.514482</td>\n",
       "    </tr>\n",
       "  </tbody>\n",
       "</table>\n",
       "</div>"
      ],
      "text/plain": [
       "             ocena    alkohol        cena\n",
       "mesec                                    \n",
       "Summer   86.707062  46.844888  399.916300\n",
       "Spring   86.989057  47.705280  347.303480\n",
       "Winter   86.994453  47.666281  273.470916\n",
       "Fall     86.456207  47.294759  269.514482"
      ]
     },
     "execution_count": 49,
     "metadata": {},
     "output_type": "execute_result"
    }
   ],
   "source": [
    "viski_mesec.mean().sort_values(by='cena', ascending=False)"
   ]
  },
  {
   "cell_type": "markdown",
   "metadata": {},
   "source": [
    "Ocena in alkohol prakticno sta enaka ne glede na mesec, zanimivo je morda le odstopanje cene. Morda res dragi viskiji\n",
    "kvarijo povprečje, saj v spodnji razpredelnici vidimo, da je bil (daleč)najdražji viski ocenjen prav poleti. Ker je bilo \n",
    "najmanj viskijev ocenjenih poleti, je ta presežek še bolj vpliven.\n"
   ]
  }
 ],
 "metadata": {
  "file_extension": ".py",
  "kernelspec": {
   "display_name": "Python 3",
   "language": "python",
   "name": "python3"
  },
  "language_info": {
   "codemirror_mode": {
    "name": "ipython",
    "version": 3
   },
   "file_extension": ".py",
   "mimetype": "text/x-python",
   "name": "python",
   "nbconvert_exporter": "python",
   "pygments_lexer": "ipython3",
   "version": "3.5.1"
  },
  "mimetype": "text/x-python",
  "name": "python",
  "npconvert_exporter": "python",
  "pygments_lexer": "ipython3",
  "version": 3
 },
 "nbformat": 4,
 "nbformat_minor": 2
}
